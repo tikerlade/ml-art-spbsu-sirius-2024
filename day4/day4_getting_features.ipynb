{
 "cells": [
  {
   "cell_type": "markdown",
   "metadata": {},
   "source": [
    "# Добавление признаков эстетичности"
   ]
  },
  {
   "cell_type": "markdown",
   "metadata": {},
   "source": [
    "## Imports"
   ]
  },
  {
   "cell_type": "code",
   "execution_count": 6,
   "metadata": {},
   "outputs": [],
   "source": [
    "import numpy as np\n",
    "import pandas as pd\n",
    "from skimage import color\n",
    "from skimage.filters.rank import entropy\n",
    "from skimage.morphology import disk\n",
    "from PIL import Image\n",
    "import swifter"
   ]
  },
  {
   "cell_type": "code",
   "execution_count": 12,
   "metadata": {},
   "outputs": [
    {
     "name": "stdout",
     "output_type": "stream",
     "text": [
      "INFO: Pandarallel will run on 10 workers.\n",
      "INFO: Pandarallel will use standard multiprocessing data transfer (pipe) to transfer data between the main process and workers.\n"
     ]
    }
   ],
   "source": [
    "import pandas as pd\n",
    "import requests\n",
    "\n",
    "from tqdm import tqdm\n",
    "tqdm.pandas()\n",
    "\n",
    "from pandarallel import pandarallel\n",
    "pandarallel.initialize(progress_bar=True)"
   ]
  },
  {
   "cell_type": "markdown",
   "metadata": {},
   "source": [
    "## Definitions\n",
    "Определим функции, которые вычисляют метрики эстетичности"
   ]
  },
  {
   "cell_type": "code",
   "execution_count": 19,
   "metadata": {},
   "outputs": [],
   "source": [
    "def CFN(img):\n",
    "    pxls = color.rgb2lab(img[:, :, :3]).reshape([img.shape[0] * img.shape[1], 3])\n",
    "\n",
    "    stda = np.std(pxls[:, 1])\n",
    "    stdb = np.std(pxls[:, 2])\n",
    "\n",
    "    centre = (\n",
    "        np.sum(pxls[:, 1]) / pxls.shape[0],\n",
    "        np.sum(pxls[:, 2]) / pxls.shape[0]\n",
    "    )\n",
    "\n",
    "    return int(np.hypot(stda, stdb) + 0.37 * np.hypot(centre[0], centre[1]))\n",
    "\n",
    "\n",
    "def img_entropy(img):\n",
    "    try:\n",
    "        img = color.rgb2gray(img)\n",
    "    except:\n",
    "        img = color.rgba2gray(img)\n",
    "\n",
    "    return np.mean(entropy(img, disk(5)))\n",
    "\n",
    "\n",
    "def rgb_box_count(img, box_size=2):\n",
    "    R, G, B = (img[:, :, i].flatten() for i in range(3))\n",
    "\n",
    "    boxes = np.full((256 // box_size, 256 // box_size, 256 // box_size), False)\n",
    "\n",
    "    for (r, g, b) in np.array([R, G, B]).T:\n",
    "        boxes[\n",
    "            int(r // box_size),\n",
    "            int(g // box_size),\n",
    "            int(b // box_size)\n",
    "        ] = True\n",
    "\n",
    "    return - np.log(np.sum(boxes)) / np.log(box_size / 256)\n",
    "\n"
   ]
  },
  {
   "cell_type": "markdown",
   "metadata": {},
   "source": [
    "## Главная функция\n",
    "Эту функцию мы применим ко всем строкам нашего датасета, и получим на выход 3 метрики эстетичности, которые будут добавлены к датасету"
   ]
  },
  {
   "cell_type": "code",
   "execution_count": 23,
   "metadata": {},
   "outputs": [],
   "source": [
    "from pathlib import Path\n",
    "\n",
    "def add_aesthetics_metrics(row, src=Path('./../images')):\n",
    "    # TODO: поменяейте здесь ./src на путь до папки, где хранятся ваши картинки\n",
    "    img_path = src / row['image']\n",
    "    img = np.array(Image.open(img_path))\n",
    "\n",
    "    cfn = CFN(img)\n",
    "    entropy = img_entropy(img)\n",
    "    # box_count = rgb_box_count(img)\n",
    "    box_count = 0\n",
    "\n",
    "    return pd.Series([cfn, entropy, box_count], index=['cfn', 'entropy', 'box_count'])"
   ]
  },
  {
   "cell_type": "code",
   "execution_count": 24,
   "metadata": {},
   "outputs": [
    {
     "name": "stdout",
     "output_type": "stream",
     "text": [
      "Given dataset has shape of: (8832, 2104)\n"
     ]
    }
   ],
   "source": [
    "from tqdm import tqdm\n",
    "tqdm.pandas()\n",
    "\n",
    "dataset_path = './christies_auction_clean_embeddings.csv'\n",
    "\n",
    "# Read the dataset we have\n",
    "df = pd.read_csv(dataset_path)\n",
    "print('Given dataset has shape of:', df.shape)"
   ]
  },
  {
   "cell_type": "code",
   "execution_count": 25,
   "metadata": {},
   "outputs": [
    {
     "data": {
      "application/vnd.jupyter.widget-view+json": {
       "model_id": "d705141a15934c2cb99d4dc7d1559470",
       "version_major": 2,
       "version_minor": 0
      },
      "text/plain": [
       "VBox(children=(HBox(children=(IntProgress(value=0, description='0.00%', max=884), Label(value='0 / 884'))), HB…"
      ]
     },
     "metadata": {},
     "output_type": "display_data"
    },
    {
     "name": "stderr",
     "output_type": "stream",
     "text": [
      "/var/folders/35/tb4whj3x0t18xb6yn70mvqs8cq9clk/T/ipykernel_10206/3881348622.py:9: UserWarning: Possible precision loss converting image of type float64 to uint8 as required by rank filters. Convert manually using skimage.util.img_as_ubyte to silence this warning.\n",
      "  entropy = img_entropy(img)\n",
      "/var/folders/35/tb4whj3x0t18xb6yn70mvqs8cq9clk/T/ipykernel_10206/3881348622.py:9: UserWarning: Possible precision loss converting image of type float64 to uint8 as required by rank filters. Convert manually using skimage.util.img_as_ubyte to silence this warning.\n",
      "  entropy = img_entropy(img)\n",
      "/var/folders/35/tb4whj3x0t18xb6yn70mvqs8cq9clk/T/ipykernel_10206/3881348622.py:9: UserWarning: Possible precision loss converting image of type float64 to uint8 as required by rank filters. Convert manually using skimage.util.img_as_ubyte to silence this warning.\n",
      "  entropy = img_entropy(img)\n",
      "/var/folders/35/tb4whj3x0t18xb6yn70mvqs8cq9clk/T/ipykernel_10206/3881348622.py:9: UserWarning: Possible precision loss converting image of type float64 to uint8 as required by rank filters. Convert manually using skimage.util.img_as_ubyte to silence this warning.\n",
      "  entropy = img_entropy(img)\n",
      "/var/folders/35/tb4whj3x0t18xb6yn70mvqs8cq9clk/T/ipykernel_10206/3881348622.py:9: UserWarning: Possible precision loss converting image of type float64 to uint8 as required by rank filters. Convert manually using skimage.util.img_as_ubyte to silence this warning.\n",
      "  entropy = img_entropy(img)\n",
      "/var/folders/35/tb4whj3x0t18xb6yn70mvqs8cq9clk/T/ipykernel_10206/3881348622.py:9: UserWarning: Possible precision loss converting image of type float64 to uint8 as required by rank filters. Convert manually using skimage.util.img_as_ubyte to silence this warning.\n",
      "  entropy = img_entropy(img)\n",
      "/var/folders/35/tb4whj3x0t18xb6yn70mvqs8cq9clk/T/ipykernel_10206/3881348622.py:9: UserWarning: Possible precision loss converting image of type float64 to uint8 as required by rank filters. Convert manually using skimage.util.img_as_ubyte to silence this warning.\n",
      "  entropy = img_entropy(img)\n",
      "/var/folders/35/tb4whj3x0t18xb6yn70mvqs8cq9clk/T/ipykernel_10206/3881348622.py:9: UserWarning: Possible precision loss converting image of type float64 to uint8 as required by rank filters. Convert manually using skimage.util.img_as_ubyte to silence this warning.\n",
      "  entropy = img_entropy(img)\n",
      "/var/folders/35/tb4whj3x0t18xb6yn70mvqs8cq9clk/T/ipykernel_10206/3881348622.py:9: UserWarning: Possible precision loss converting image of type float64 to uint8 as required by rank filters. Convert manually using skimage.util.img_as_ubyte to silence this warning.\n",
      "  entropy = img_entropy(img)\n",
      "/var/folders/35/tb4whj3x0t18xb6yn70mvqs8cq9clk/T/ipykernel_10206/3881348622.py:9: UserWarning: Possible precision loss converting image of type float64 to uint8 as required by rank filters. Convert manually using skimage.util.img_as_ubyte to silence this warning.\n",
      "  entropy = img_entropy(img)\n"
     ]
    }
   ],
   "source": [
    "# Compute aesthetics metrics\n",
    "df[['cfn', 'entropy', 'box_count']] = df.parallel_apply(add_aesthetics_metrics, axis=1)\n",
    "print('After processing dataset has shape of:', df.shape)\n",
    "\n",
    "# Store results into .csv for Orange use\n",
    "df.to_csv('./christies_auction_clean_embeddings_aesthetics.csv', index=True)"
   ]
  },
  {
   "cell_type": "code",
   "execution_count": null,
   "metadata": {},
   "outputs": [],
   "source": []
  }
 ],
 "metadata": {
  "kernelspec": {
   "display_name": "Python 3",
   "language": "python",
   "name": "python3"
  },
  "language_info": {
   "codemirror_mode": {
    "name": "ipython",
    "version": 3
   },
   "file_extension": ".py",
   "mimetype": "text/x-python",
   "name": "python",
   "nbconvert_exporter": "python",
   "pygments_lexer": "ipython3",
   "version": "3.11.4"
  }
 },
 "nbformat": 4,
 "nbformat_minor": 2
}
