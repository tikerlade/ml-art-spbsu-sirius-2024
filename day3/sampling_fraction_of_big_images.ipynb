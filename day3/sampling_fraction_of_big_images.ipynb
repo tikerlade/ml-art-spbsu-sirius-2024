{
 "cells": [
  {
   "cell_type": "code",
   "execution_count": 10,
   "metadata": {},
   "outputs": [],
   "source": [
    "import os\n",
    "import random\n",
    "import shutil\n",
    "from pathlib import Path\n",
    "\n",
    "SRC_PATH = Path('/Users/obivan/Personal/spbsu-sirius-2024/big_images')\n",
    "DST_PATH = Path('/Users/obivan/Personal/spbsu-sirius-2024/small_images')\n",
    "\n",
    "files = os.listdir(SRC_PATH)\n",
    "keep_files = random.sample(files, k=2000)\n",
    "\n",
    "for fname in keep_files:\n",
    "    shutil.copyfile(SRC_PATH / fname, DST_PATH / fname)"
   ]
  },
  {
   "cell_type": "code",
   "execution_count": null,
   "metadata": {},
   "outputs": [],
   "source": []
  }
 ],
 "metadata": {
  "kernelspec": {
   "display_name": "Python 3",
   "language": "python",
   "name": "python3"
  },
  "language_info": {
   "codemirror_mode": {
    "name": "ipython",
    "version": 3
   },
   "file_extension": ".py",
   "mimetype": "text/x-python",
   "name": "python",
   "nbconvert_exporter": "python",
   "pygments_lexer": "ipython3",
   "version": "3.11.4"
  }
 },
 "nbformat": 4,
 "nbformat_minor": 2
}
