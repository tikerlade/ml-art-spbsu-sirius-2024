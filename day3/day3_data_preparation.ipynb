{
 "cells": [
  {
   "cell_type": "code",
   "execution_count": null,
   "metadata": {},
   "outputs": [],
   "source": [
    "# This will be turned into .ipynb, here I will inference model from kaggle & create dataset\n",
    "kaggle_link = 'https://www.kaggle.com/code/mpwolke/expressing-my-scream/input'\n",
    "\n",
    "# Extract links to images\n",
    "...\n",
    "\n",
    "# Download images using curl or some other stuff\n",
    "...\n",
    "\n",
    "# Download kaggle model for inference\n",
    "...\n",
    "\n",
    "# Inference loop to create marked up data\n",
    "...\n",
    "\n",
    "# Store markup as a new column"
   ]
  }
 ],
 "metadata": {
  "language_info": {
   "name": "python"
  }
 },
 "nbformat": 4,
 "nbformat_minor": 2
}
